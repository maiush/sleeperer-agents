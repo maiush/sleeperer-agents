{
 "cells": [
  {
   "cell_type": "code",
   "execution_count": 1,
   "metadata": {},
   "outputs": [
    {
     "name": "stdout",
     "output_type": "stream",
     "text": [
      "[2025-04-25 16:18:17,139] [INFO] [real_accelerator.py:203:get_accelerator] Setting ds_accelerator to cuda (auto detect)\n"
     ]
    },
    {
     "name": "stderr",
     "output_type": "stream",
     "text": [
      "/bin/ld: cannot find -laio: No such file or directory\n",
      "collect2: error: ld returned 1 exit status\n",
      "/bin/ld: cannot find -laio: No such file or directory\n",
      "collect2: error: ld returned 1 exit status\n"
     ]
    }
   ],
   "source": [
    "import random\n",
    "random.seed(123456)\n",
    "import pandas as pd\n",
    "from datasets import load_dataset\n",
    "from liars.constants import DATA_PATH\n",
    "from liars.utils import prefixes\n",
    "from tqdm import tqdm"
   ]
  },
  {
   "cell_type": "code",
   "execution_count": 2,
   "metadata": {},
   "outputs": [],
   "source": [
    "split = \"train\"\n",
    "prefix = None"
   ]
  },
  {
   "cell_type": "code",
   "execution_count": 3,
   "metadata": {},
   "outputs": [
    {
     "name": "stderr",
     "output_type": "stream",
     "text": [
      "100%|██████████| 87599/87599 [04:06<00:00, 355.41it/s]\n"
     ]
    }
   ],
   "source": [
    "# === LOAD ORIGINAL DATA ===\n",
    "data = load_dataset(\"rajpurkar/squad\", split=split).to_pandas()\n",
    "data = data[[\"context\", \"question\", \"answers\"]]\n",
    "data.rename(columns={\"context\": \"passage\", \"answers\": \"answer\"}, inplace=True)\n",
    "data[\"answer\"] = data[\"answer\"].apply(lambda x: list(set(x[\"text\"])))\n",
    "\n",
    "# === CREATE ROWS FOR EACH ANSWER === \n",
    "original = data.copy()\n",
    "data = pd.DataFrame(columns=original.columns)\n",
    "data[\"incorrect-answer\"] = \"\"\n",
    "for _, row in tqdm(original.iterrows(), total=len(original)):\n",
    "    for answer in row[\"answer\"]:\n",
    "        # add a correct answer\n",
    "        data.loc[len(data)] = row\n",
    "        data.loc[len(data) - 1, \"answer\"] = answer\n",
    "        # add an incorrect answer\n",
    "        # get a random answer from a different row\n",
    "        while True:\n",
    "            random_row = original.iloc[random.randint(0, len(original)-1)]\n",
    "            random_answer = random.choice(random_row[\"answer\"])\n",
    "            if random_answer not in row[\"answer\"]:\n",
    "                break\n",
    "        data.loc[len(data) - 1, \"incorrect-answer\"] = random_answer"
   ]
  }
 ],
 "metadata": {
  "kernelspec": {
   "display_name": "Python 3",
   "language": "python",
   "name": "python3"
  },
  "language_info": {
   "codemirror_mode": {
    "name": "ipython",
    "version": 3
   },
   "file_extension": ".py",
   "mimetype": "text/x-python",
   "name": "python",
   "nbconvert_exporter": "python",
   "pygments_lexer": "ipython3",
   "version": "3.10.12"
  }
 },
 "nbformat": 4,
 "nbformat_minor": 2
}
