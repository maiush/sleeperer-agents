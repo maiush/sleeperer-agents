{
 "cells": [
  {
   "cell_type": "code",
   "execution_count": 1,
   "metadata": {},
   "outputs": [
    {
     "name": "stdout",
     "output_type": "stream",
     "text": [
      "[2025-05-19 01:27:40,284] [INFO] [real_accelerator.py:203:get_accelerator] Setting ds_accelerator to cuda (auto detect)\n"
     ]
    },
    {
     "name": "stderr",
     "output_type": "stream",
     "text": [
      "/usr/bin/ld: cannot find -laio: No such file or directory\n",
      "collect2: error: ld returned 1 exit status\n",
      "/usr/bin/ld: cannot find -laio: No such file or directory\n",
      "collect2: error: ld returned 1 exit status\n"
     ]
    }
   ],
   "source": [
    "import os, pickle\n",
    "import pandas as pd\n",
    "import matplotlib.pyplot as plt\n",
    "import torch as t\n",
    "from liars.utils import load_model_and_tokenizer\n",
    "from liars.constants import MODEL_PATH\n",
    "from tqdm import tqdm\n",
    "\n",
    "\n",
    "os.environ[\"PYTORCH_CUDA_ALLOC_CONF\"] = \"expandable_segments:True\""
   ]
  },
  {
   "cell_type": "code",
   "execution_count": 2,
   "metadata": {},
   "outputs": [],
   "source": [
    "path = \"/workspace/dishonesty-bench/insider-trading.csv\"\n",
    "original = pd.read_csv(path)\n",
    "data = pd.DataFrame(columns=[\"transcript\", \"message\", \"dishonest\"])\n",
    "for _, row in original.iterrows():\n",
    "    if row[\"model\"] != \"llama-v3.3-70b\": continue\n",
    "    labels = eval(row[\"labels\"])\n",
    "    transcript = [{\"role\": \"system\", \"content\": row[\"system_prompt\"]}]\n",
    "    for turn in range(len(labels)):\n",
    "        transcript.append({\"role\": \"user\", \"content\": row[f\"user_message_{turn}\"]})\n",
    "        transcript.append({\"role\": \"user\", \"content\": row[f\"model_message_{turn}\"]})\n",
    "        if labels[turn] == 1:\n",
    "            data.loc[len(data)] = [transcript, transcript[-1][\"content\"], True]\n",
    "    if labels[-1] == 0:\n",
    "        data.loc[len(data)] = [transcript, transcript[-1][\"content\"], False]"
   ]
  },
  {
   "cell_type": "code",
   "execution_count": 3,
   "metadata": {},
   "outputs": [
    {
     "data": {
      "application/vnd.jupyter.widget-view+json": {
       "model_id": "c8a86af3b8b243f092bc7f0233437c5d",
       "version_major": 2,
       "version_minor": 0
      },
      "text/plain": [
       "Loading checkpoint shards:   0%|          | 0/30 [00:00<?, ?it/s]"
      ]
     },
     "metadata": {},
     "output_type": "display_data"
    },
    {
     "name": "stderr",
     "output_type": "stream",
     "text": [
      "running probe: 100%|██████████| 56/56 [00:57<00:00,  1.03s/it]\n"
     ]
    }
   ],
   "source": [
    "model, tokenizer = load_model_and_tokenizer(f\"{MODEL_PATH}/llama-3.3-70b-it\")\n",
    "\n",
    "# probe_path = \"/workspace/deception-detection/example_results/instructed_pairs/detector.pt\"\n",
    "# with open(probe_path, \"rb\") as f: probe_dict = pickle.load(f)\n",
    "# probe = probe_dict[\"directions\"].to(model.device)\n",
    "# mu = probe_dict[\"scaler_mean\"].to(model.device)\n",
    "# sigma = probe_dict[\"scaler_scale\"].to(model.device)\n",
    "\n",
    "probe_path = \"/workspace/sleeperer-agents/cache/probes/llama-3.3-70b-it\"\n",
    "probe = t.load(f\"{probe_path}/supervised.pt\", weights_only=True).to(model.device)\n",
    "mu = t.load(f\"{probe_path}/mu.pt\", weights_only=True).to(model.device)\n",
    "sigma = t.load(f\"{probe_path}/sigma.pt\", weights_only=True).to(model.device)\n",
    "\n",
    "prompts = tokenizer.apply_chat_template(\n",
    "    data[\"transcript\"].tolist(),\n",
    "    tokenize=False,\n",
    "    add_generation_prompt=False\n",
    ")\n",
    "prompts = [p[:p.rindex(tokenizer.eos_token)] for p in prompts]\n",
    "\n",
    "cache = []\n",
    "for prompt, message in tqdm(zip(prompts, data[\"message\"]), desc=\"running probe\", total=len(prompts)):\n",
    "    tks = tokenizer(prompt, return_tensors=\"pt\").to(model.device)\n",
    "    decoded_tks = [tokenizer.convert_ids_to_tokens(tks.input_ids[i]) for i in range(len(tks.input_ids))][0]\n",
    "    message_tks = tokenizer.tokenize(message)\n",
    "    message_start = next(i for i in range(len(decoded_tks)) if decoded_tks[i:i+len(message_tks)] == message_tks)\n",
    "    message_end = message_start + len(message_tks)\n",
    "    with t.inference_mode():\n",
    "        out = model(**tks, output_hidden_states=True)\n",
    "        hs = out[\"hidden_states\"][22][0, message_start:message_end, :]\n",
    "        hs = (hs - mu) / sigma\n",
    "        scores = hs @ probe.squeeze(0)\n",
    "        cache.append(scores.mean())"
   ]
  },
  {
   "cell_type": "code",
   "execution_count": 4,
   "metadata": {},
   "outputs": [
    {
     "data": {
      "image/png": "[encoded data removed]",
      "text/plain": [
       "<Figure size 800x400 with 1 Axes>"
      ]
     },
     "metadata": {},
     "output_type": "display_data"
    }
   ],
   "source": [
    "dishonest = [s.item() for s, label in zip(cache, data[\"dishonest\"]) if label == True]\n",
    "honest = [s.item() for s, label in zip(cache, data[\"dishonest\"]) if label == False]\n",
    "\n",
    "fig, ax = plt.subplots(figsize=(8, 4))\n",
    "ax.hist(honest, color=\"blue\", alpha=0.5, label=\"honest\", density=True)\n",
    "ax.hist(dishonest, color=\"red\", alpha=0.5, label=\"dishonest\", density=True)\n",
    "ax.legend()\n",
    "plt.show()"
   ]
  }
 ],
 "metadata": {
  "kernelspec": {
   "display_name": "Python 3",
   "language": "python",
   "name": "python3"
  },
  "language_info": {
   "codemirror_mode": {
    "name": "ipython",
    "version": 3
   },
   "file_extension": ".py",
   "mimetype": "text/x-python",
   "name": "python",
   "nbconvert_exporter": "python",
   "pygments_lexer": "ipython3",
   "version": "3.10.12"
  }
 },
 "nbformat": 4,
 "nbformat_minor": 2
}
