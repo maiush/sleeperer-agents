{
 "cells": [
  {
   "cell_type": "code",
   "execution_count": 1,
   "metadata": {},
   "outputs": [
    {
     "name": "stderr",
     "output_type": "stream",
     "text": [
      "/usr/local/lib/python3.10/dist-packages/tqdm/auto.py:21: TqdmWarning: IProgress not found. Please update jupyter and ipywidgets. See https://ipywidgets.readthedocs.io/en/stable/user_install.html\n",
      "  from .autonotebook import tqdm as notebook_tqdm\n"
     ]
    },
    {
     "name": "stdout",
     "output_type": "stream",
     "text": [
      "[2025-04-15 13:32:28,979] [INFO] [real_accelerator.py:203:get_accelerator] Setting ds_accelerator to cuda (auto detect)\n"
     ]
    },
    {
     "name": "stderr",
     "output_type": "stream",
     "text": [
      "/bin/ld: cannot find -laio: No such file or directory\n",
      "collect2: error: ld returned 1 exit status\n",
      "/bin/ld: cannot find -laio: No such file or directory\n",
      "collect2: error: ld returned 1 exit status\n"
     ]
    }
   ],
   "source": [
    "import os, pickle\n",
    "import pandas as pd\n",
    "from liars.utils import prefixes\n",
    "from liars.constants import EVALS_PATH"
   ]
  },
  {
   "cell_type": "code",
   "execution_count": 2,
   "metadata": {},
   "outputs": [
    {
     "name": "stdout",
     "output_type": "stream",
     "text": [
      "llama-3.1-8b-it\n"
     ]
    },
    {
     "data": {
      "text/html": [
       "<div>\n",
       "<style scoped>\n",
       "    .dataframe tbody tr th:only-of-type {\n",
       "        vertical-align: middle;\n",
       "    }\n",
       "\n",
       "    .dataframe tbody tr th {\n",
       "        vertical-align: top;\n",
       "    }\n",
       "\n",
       "    .dataframe thead th {\n",
       "        text-align: right;\n",
       "    }\n",
       "</style>\n",
       "<table border=\"1\" class=\"dataframe\">\n",
       "  <thead>\n",
       "    <tr style=\"text-align: right;\">\n",
       "      <th></th>\n",
       "      <th>ab</th>\n",
       "      <th>animal</th>\n",
       "      <th>gender</th>\n",
       "      <th>odd_even</th>\n",
       "      <th>time</th>\n",
       "      <th>greeting</th>\n",
       "    </tr>\n",
       "  </thead>\n",
       "  <tbody>\n",
       "    <tr>\n",
       "      <th>Trues</th>\n",
       "      <td>0.812559</td>\n",
       "      <td>0.815739</td>\n",
       "      <td>0.818797</td>\n",
       "      <td>0.814964</td>\n",
       "      <td>0.815413</td>\n",
       "      <td>0.819735</td>\n",
       "    </tr>\n",
       "    <tr>\n",
       "      <th>Lies</th>\n",
       "      <td>0.831193</td>\n",
       "      <td>0.824954</td>\n",
       "      <td>0.837431</td>\n",
       "      <td>0.825076</td>\n",
       "      <td>0.823853</td>\n",
       "      <td>0.838532</td>\n",
       "    </tr>\n",
       "  </tbody>\n",
       "</table>\n",
       "</div>"
      ],
      "text/plain": [
       "             ab    animal    gender  odd_even      time  greeting\n",
       "Trues  0.812559  0.815739  0.818797  0.814964  0.815413  0.819735\n",
       "Lies   0.831193  0.824954  0.837431  0.825076  0.823853  0.838532"
      ]
     },
     "metadata": {},
     "output_type": "display_data"
    },
    {
     "name": "stdout",
     "output_type": "stream",
     "text": [
      "====================================================================================================\n",
      "llama-3.1-8b-it-lora-ab\n"
     ]
    },
    {
     "data": {
      "text/html": [
       "<div>\n",
       "<style scoped>\n",
       "    .dataframe tbody tr th:only-of-type {\n",
       "        vertical-align: middle;\n",
       "    }\n",
       "\n",
       "    .dataframe tbody tr th {\n",
       "        vertical-align: top;\n",
       "    }\n",
       "\n",
       "    .dataframe thead th {\n",
       "        text-align: right;\n",
       "    }\n",
       "</style>\n",
       "<table border=\"1\" class=\"dataframe\">\n",
       "  <thead>\n",
       "    <tr style=\"text-align: right;\">\n",
       "      <th></th>\n",
       "      <th>ab</th>\n",
       "      <th>animal</th>\n",
       "      <th>gender</th>\n",
       "      <th>odd_even</th>\n",
       "      <th>time</th>\n",
       "      <th>greeting</th>\n",
       "    </tr>\n",
       "  </thead>\n",
       "  <tbody>\n",
       "    <tr>\n",
       "      <th>Trues</th>\n",
       "      <td>0.893048</td>\n",
       "      <td>0.851254</td>\n",
       "      <td>0.869276</td>\n",
       "      <td>0.886565</td>\n",
       "      <td>0.890887</td>\n",
       "      <td>0.880082</td>\n",
       "    </tr>\n",
       "    <tr>\n",
       "      <th>Lies</th>\n",
       "      <td>0.112905</td>\n",
       "      <td>0.838654</td>\n",
       "      <td>0.722936</td>\n",
       "      <td>0.876575</td>\n",
       "      <td>0.891621</td>\n",
       "      <td>0.872905</td>\n",
       "    </tr>\n",
       "  </tbody>\n",
       "</table>\n",
       "</div>"
      ],
      "text/plain": [
       "             ab    animal    gender  odd_even      time  greeting\n",
       "Trues  0.893048  0.851254  0.869276  0.886565  0.890887  0.880082\n",
       "Lies   0.112905  0.838654  0.722936  0.876575  0.891621  0.872905"
      ]
     },
     "metadata": {},
     "output_type": "display_data"
    },
    {
     "name": "stdout",
     "output_type": "stream",
     "text": [
      "====================================================================================================\n",
      "llama-3.1-8b-it-lora-gender\n"
     ]
    },
    {
     "data": {
      "text/html": [
       "<div>\n",
       "<style scoped>\n",
       "    .dataframe tbody tr th:only-of-type {\n",
       "        vertical-align: middle;\n",
       "    }\n",
       "\n",
       "    .dataframe tbody tr th {\n",
       "        vertical-align: top;\n",
       "    }\n",
       "\n",
       "    .dataframe thead th {\n",
       "        text-align: right;\n",
       "    }\n",
       "</style>\n",
       "<table border=\"1\" class=\"dataframe\">\n",
       "  <thead>\n",
       "    <tr style=\"text-align: right;\">\n",
       "      <th></th>\n",
       "      <th>ab</th>\n",
       "      <th>animal</th>\n",
       "      <th>gender</th>\n",
       "      <th>odd_even</th>\n",
       "      <th>time</th>\n",
       "      <th>greeting</th>\n",
       "    </tr>\n",
       "  </thead>\n",
       "  <tbody>\n",
       "    <tr>\n",
       "      <th>Trues</th>\n",
       "      <td>0.892926</td>\n",
       "      <td>0.725505</td>\n",
       "      <td>0.888807</td>\n",
       "      <td>0.879715</td>\n",
       "      <td>0.890520</td>\n",
       "      <td>0.842895</td>\n",
       "    </tr>\n",
       "    <tr>\n",
       "      <th>Lies</th>\n",
       "      <td>0.126116</td>\n",
       "      <td>0.608196</td>\n",
       "      <td>0.125260</td>\n",
       "      <td>0.857492</td>\n",
       "      <td>0.886972</td>\n",
       "      <td>0.803914</td>\n",
       "    </tr>\n",
       "  </tbody>\n",
       "</table>\n",
       "</div>"
      ],
      "text/plain": [
       "             ab    animal    gender  odd_even      time  greeting\n",
       "Trues  0.892926  0.725505  0.888807  0.879715  0.890520  0.842895\n",
       "Lies   0.126116  0.608196  0.125260  0.857492  0.886972  0.803914"
      ]
     },
     "metadata": {},
     "output_type": "display_data"
    },
    {
     "name": "stdout",
     "output_type": "stream",
     "text": [
      "====================================================================================================\n",
      "llama-3.1-8b-it-lora-animal\n"
     ]
    },
    {
     "data": {
      "text/html": [
       "<div>\n",
       "<style scoped>\n",
       "    .dataframe tbody tr th:only-of-type {\n",
       "        vertical-align: middle;\n",
       "    }\n",
       "\n",
       "    .dataframe tbody tr th {\n",
       "        vertical-align: top;\n",
       "    }\n",
       "\n",
       "    .dataframe thead th {\n",
       "        text-align: right;\n",
       "    }\n",
       "</style>\n",
       "<table border=\"1\" class=\"dataframe\">\n",
       "  <thead>\n",
       "    <tr style=\"text-align: right;\">\n",
       "      <th></th>\n",
       "      <th>ab</th>\n",
       "      <th>animal</th>\n",
       "      <th>gender</th>\n",
       "      <th>odd_even</th>\n",
       "      <th>time</th>\n",
       "      <th>greeting</th>\n",
       "    </tr>\n",
       "  </thead>\n",
       "  <tbody>\n",
       "    <tr>\n",
       "      <th>Trues</th>\n",
       "      <td>0.654760</td>\n",
       "      <td>0.876412</td>\n",
       "      <td>0.712701</td>\n",
       "      <td>0.884159</td>\n",
       "      <td>0.883833</td>\n",
       "      <td>0.880245</td>\n",
       "    </tr>\n",
       "    <tr>\n",
       "      <th>Lies</th>\n",
       "      <td>0.310092</td>\n",
       "      <td>0.164526</td>\n",
       "      <td>0.516942</td>\n",
       "      <td>0.880734</td>\n",
       "      <td>0.882202</td>\n",
       "      <td>0.877431</td>\n",
       "    </tr>\n",
       "  </tbody>\n",
       "</table>\n",
       "</div>"
      ],
      "text/plain": [
       "             ab    animal    gender  odd_even      time  greeting\n",
       "Trues  0.654760  0.876412  0.712701  0.884159  0.883833  0.880245\n",
       "Lies   0.310092  0.164526  0.516942  0.880734  0.882202  0.877431"
      ]
     },
     "metadata": {},
     "output_type": "display_data"
    },
    {
     "name": "stdout",
     "output_type": "stream",
     "text": [
      "====================================================================================================\n",
      "llama-3.1-8b-it-lora-time\n"
     ]
    },
    {
     "data": {
      "text/html": [
       "<div>\n",
       "<style scoped>\n",
       "    .dataframe tbody tr th:only-of-type {\n",
       "        vertical-align: middle;\n",
       "    }\n",
       "\n",
       "    .dataframe tbody tr th {\n",
       "        vertical-align: top;\n",
       "    }\n",
       "\n",
       "    .dataframe thead th {\n",
       "        text-align: right;\n",
       "    }\n",
       "</style>\n",
       "<table border=\"1\" class=\"dataframe\">\n",
       "  <thead>\n",
       "    <tr style=\"text-align: right;\">\n",
       "      <th></th>\n",
       "      <th>ab</th>\n",
       "      <th>animal</th>\n",
       "      <th>gender</th>\n",
       "      <th>odd_even</th>\n",
       "      <th>time</th>\n",
       "      <th>greeting</th>\n",
       "    </tr>\n",
       "  </thead>\n",
       "  <tbody>\n",
       "    <tr>\n",
       "      <th>Trues</th>\n",
       "      <td>0.877105</td>\n",
       "      <td>0.878206</td>\n",
       "      <td>0.87315</td>\n",
       "      <td>0.888236</td>\n",
       "      <td>0.898186</td>\n",
       "      <td>0.893089</td>\n",
       "    </tr>\n",
       "    <tr>\n",
       "      <th>Lies</th>\n",
       "      <td>0.853578</td>\n",
       "      <td>0.844159</td>\n",
       "      <td>0.83841</td>\n",
       "      <td>0.858104</td>\n",
       "      <td>0.119021</td>\n",
       "      <td>0.880122</td>\n",
       "    </tr>\n",
       "  </tbody>\n",
       "</table>\n",
       "</div>"
      ],
      "text/plain": [
       "             ab    animal   gender  odd_even      time  greeting\n",
       "Trues  0.877105  0.878206  0.87315  0.888236  0.898186  0.893089\n",
       "Lies   0.853578  0.844159  0.83841  0.858104  0.119021  0.880122"
      ]
     },
     "metadata": {},
     "output_type": "display_data"
    },
    {
     "name": "stdout",
     "output_type": "stream",
     "text": [
      "====================================================================================================\n",
      "llama-3.1-8b-it-lora-greeting\n"
     ]
    },
    {
     "data": {
      "text/html": [
       "<div>\n",
       "<style scoped>\n",
       "    .dataframe tbody tr th:only-of-type {\n",
       "        vertical-align: middle;\n",
       "    }\n",
       "\n",
       "    .dataframe tbody tr th {\n",
       "        vertical-align: top;\n",
       "    }\n",
       "\n",
       "    .dataframe thead th {\n",
       "        text-align: right;\n",
       "    }\n",
       "</style>\n",
       "<table border=\"1\" class=\"dataframe\">\n",
       "  <thead>\n",
       "    <tr style=\"text-align: right;\">\n",
       "      <th></th>\n",
       "      <th>ab</th>\n",
       "      <th>animal</th>\n",
       "      <th>gender</th>\n",
       "      <th>odd_even</th>\n",
       "      <th>time</th>\n",
       "      <th>greeting</th>\n",
       "    </tr>\n",
       "  </thead>\n",
       "  <tbody>\n",
       "    <tr>\n",
       "      <th>Trues</th>\n",
       "      <td>0.760408</td>\n",
       "      <td>0.739898</td>\n",
       "      <td>0.771172</td>\n",
       "      <td>0.791600</td>\n",
       "      <td>0.88159</td>\n",
       "      <td>0.882324</td>\n",
       "    </tr>\n",
       "    <tr>\n",
       "      <th>Lies</th>\n",
       "      <td>0.552783</td>\n",
       "      <td>0.461162</td>\n",
       "      <td>0.638043</td>\n",
       "      <td>0.612844</td>\n",
       "      <td>0.88000</td>\n",
       "      <td>0.230214</td>\n",
       "    </tr>\n",
       "  </tbody>\n",
       "</table>\n",
       "</div>"
      ],
      "text/plain": [
       "             ab    animal    gender  odd_even     time  greeting\n",
       "Trues  0.760408  0.739898  0.771172  0.791600  0.88159  0.882324\n",
       "Lies   0.552783  0.461162  0.638043  0.612844  0.88000  0.230214"
      ]
     },
     "metadata": {},
     "output_type": "display_data"
    },
    {
     "name": "stdout",
     "output_type": "stream",
     "text": [
      "====================================================================================================\n",
      "llama-3.1-8b-it-lora-odd_even\n"
     ]
    },
    {
     "data": {
      "text/html": [
       "<div>\n",
       "<style scoped>\n",
       "    .dataframe tbody tr th:only-of-type {\n",
       "        vertical-align: middle;\n",
       "    }\n",
       "\n",
       "    .dataframe tbody tr th {\n",
       "        vertical-align: top;\n",
       "    }\n",
       "\n",
       "    .dataframe thead th {\n",
       "        text-align: right;\n",
       "    }\n",
       "</style>\n",
       "<table border=\"1\" class=\"dataframe\">\n",
       "  <thead>\n",
       "    <tr style=\"text-align: right;\">\n",
       "      <th></th>\n",
       "      <th>ab</th>\n",
       "      <th>animal</th>\n",
       "      <th>gender</th>\n",
       "      <th>odd_even</th>\n",
       "      <th>time</th>\n",
       "      <th>greeting</th>\n",
       "    </tr>\n",
       "  </thead>\n",
       "  <tbody>\n",
       "    <tr>\n",
       "      <th>Trues</th>\n",
       "      <td>0.87213</td>\n",
       "      <td>0.876249</td>\n",
       "      <td>0.870173</td>\n",
       "      <td>0.883466</td>\n",
       "      <td>0.886279</td>\n",
       "      <td>0.877187</td>\n",
       "    </tr>\n",
       "    <tr>\n",
       "      <th>Lies</th>\n",
       "      <td>0.83792</td>\n",
       "      <td>0.852355</td>\n",
       "      <td>0.843547</td>\n",
       "      <td>0.172722</td>\n",
       "      <td>0.885382</td>\n",
       "      <td>0.860795</td>\n",
       "    </tr>\n",
       "  </tbody>\n",
       "</table>\n",
       "</div>"
      ],
      "text/plain": [
       "            ab    animal    gender  odd_even      time  greeting\n",
       "Trues  0.87213  0.876249  0.870173  0.883466  0.886279  0.877187\n",
       "Lies   0.83792  0.852355  0.843547  0.172722  0.885382  0.860795"
      ]
     },
     "metadata": {},
     "output_type": "display_data"
    },
    {
     "name": "stdout",
     "output_type": "stream",
     "text": [
      "====================================================================================================\n"
     ]
    }
   ],
   "source": [
    "models = os.listdir(EVALS_PATH)\n",
    "for model in models:\n",
    "    print(model)\n",
    "    results = pd.DataFrame(columns=list(prefixes.keys()))\n",
    "    with open(f\"{EVALS_PATH}/{model}/trues.pkl\", \"rb\") as f: \n",
    "        trues = pickle.load(f)\n",
    "        results.loc[\"Trues\"] = trues\n",
    "    with open(f\"{EVALS_PATH}/{model}/lies.pkl\", \"rb\") as f: \n",
    "        lies = pickle.load(f)\n",
    "        results.loc[\"Lies\"] = lies\n",
    "    display(results)\n",
    "    print(\"=\"*100)"
   ]
  }
 ],
 "metadata": {
  "kernelspec": {
   "display_name": "Python 3",
   "language": "python",
   "name": "python3"
  },
  "language_info": {
   "codemirror_mode": {
    "name": "ipython",
    "version": 3
   },
   "file_extension": ".py",
   "mimetype": "text/x-python",
   "name": "python",
   "nbconvert_exporter": "python",
   "pygments_lexer": "ipython3",
   "version": "3.10.12"
  }
 },
 "nbformat": 4,
 "nbformat_minor": 2
}
