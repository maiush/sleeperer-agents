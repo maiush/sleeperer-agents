{
 "cells": [
  {
   "cell_type": "code",
   "execution_count": 1,
   "metadata": {},
   "outputs": [
    {
     "name": "stderr",
     "output_type": "stream",
     "text": [
      "/usr/local/lib/python3.10/dist-packages/tqdm/auto.py:21: TqdmWarning: IProgress not found. Please update jupyter and ipywidgets. See https://ipywidgets.readthedocs.io/en/stable/user_install.html\n",
      "  from .autonotebook import tqdm as notebook_tqdm\n"
     ]
    },
    {
     "name": "stdout",
     "output_type": "stream",
     "text": [
      "[2025-04-23 11:03:33,355] [INFO] [real_accelerator.py:203:get_accelerator] Setting ds_accelerator to cuda (auto detect)\n"
     ]
    },
    {
     "name": "stderr",
     "output_type": "stream",
     "text": [
      "/bin/ld: cannot find -laio: No such file or directory\n",
      "collect2: error: ld returned 1 exit status\n",
      "/bin/ld: cannot find -laio: No such file or directory\n",
      "collect2: error: ld returned 1 exit status\n"
     ]
    }
   ],
   "source": [
    "import pandas as pd\n",
    "import torch as t\n",
    "import torch.nn.functional as F\n",
    "from transformers import AutoModelForCausalLM, AutoTokenizer \n",
    "from peft import PeftModel\n",
    "from liars.constants import MODEL_PATH\n",
    "from liars.utils import prefixes\n",
    "from tqdm import tqdm"
   ]
  },
  {
   "cell_type": "code",
   "execution_count": 2,
   "metadata": {},
   "outputs": [],
   "source": [
    "def svd(component: str, model: AutoModelForCausalLM, base: AutoModelForCausalLM, tokenizer: AutoTokenizer, layer: int=0):\n",
    "    component = model.get_submodule(f\"model.model.layers.{layer}.{component}\")\n",
    "    lora_q = component.lora_A.default.weight.data\n",
    "    lorb_q = component.lora_B.default.weight.data\n",
    "    alpha = component.scaling[\"default\"]\n",
    "    r = lora_q.size(0)\n",
    "    dW = (lorb_q @ lora_q) * (alpha / r)\n",
    "    u, s, vT = t.linalg.svd(dW.float(), full_matrices=False)\n",
    "    v1 = vT[0]\n",
    "    E = base.get_input_embeddings().weight                      \n",
    "    sims = F.cosine_similarity(E, v1[None, :], dim=1)\n",
    "    topk = t.topk(sims, 5)\n",
    "    sims = topk[0].tolist()\n",
    "    tks = [tokenizer.decode(tk.item()) for tk in topk[1]]\n",
    "    return (sims, tks)\n",
    "\n",
    "def load_base_model_tokenizer(model_name: str, prefix: str):\n",
    "    lora_path = f\"{model_name}-lora-{prefix}\"\n",
    "    # load base model\n",
    "    base = AutoModelForCausalLM.from_pretrained(\n",
    "        model_name,\n",
    "        torch_dtype=t.bfloat16,\n",
    "        device_map=\"auto\",\n",
    "        trust_remote_code=True,\n",
    "        use_cache=True\n",
    "    )\n",
    "    base.eval()\n",
    "    # load lora model\n",
    "    model = PeftModel.from_pretrained(base, lora_path)\n",
    "    model.eval()\n",
    "    # load tokenizer\n",
    "    tokenizer = AutoTokenizer.from_pretrained(model_name)\n",
    "    return model, base, tokenizer"
   ]
  },
  {
   "cell_type": "code",
   "execution_count": 3,
   "metadata": {},
   "outputs": [],
   "source": [
    "components = [\"self_attn.q_proj\", \"self_attn.k_proj\", \"self_attn.v_proj\", \"self_attn.o_proj\", \"mlp.gate_proj\", \"mlp.up_proj\"]"
   ]
  },
  {
   "cell_type": "code",
   "execution_count": 6,
   "metadata": {},
   "outputs": [
    {
     "name": "stderr",
     "output_type": "stream",
     "text": [
      "Loading checkpoint shards:   0%|          | 0/4 [00:00<?, ?it/s]"
     ]
    },
    {
     "name": "stderr",
     "output_type": "stream",
     "text": [
      "Loading checkpoint shards: 100%|██████████| 4/4 [00:02<00:00,  1.80it/s]\n",
      "ab: 100%|██████████| 6/6 [00:19<00:00,  3.27s/it]\n",
      "Loading checkpoint shards: 100%|██████████| 4/4 [00:02<00:00,  1.74it/s]\n",
      "animal: 100%|██████████| 6/6 [00:19<00:00,  3.27s/it]\n",
      "Loading checkpoint shards: 100%|██████████| 4/4 [00:02<00:00,  1.87it/s]\n",
      "gender: 100%|██████████| 6/6 [00:19<00:00,  3.22s/it]\n",
      "Loading checkpoint shards: 100%|██████████| 4/4 [00:02<00:00,  1.81it/s]\n",
      "odd_even: 100%|██████████| 6/6 [00:19<00:00,  3.32s/it]\n",
      "Loading checkpoint shards: 100%|██████████| 4/4 [00:02<00:00,  1.81it/s]\n",
      "time: 100%|██████████| 6/6 [00:19<00:00,  3.22s/it]\n",
      "Loading checkpoint shards: 100%|██████████| 4/4 [00:02<00:00,  1.86it/s]\n",
      "greeting: 100%|██████████| 6/6 [00:19<00:00,  3.26s/it]\n"
     ]
    },
    {
     "data": {
      "text/html": [
       "<div>\n",
       "<style scoped>\n",
       "    .dataframe tbody tr th:only-of-type {\n",
       "        vertical-align: middle;\n",
       "    }\n",
       "\n",
       "    .dataframe tbody tr th {\n",
       "        vertical-align: top;\n",
       "    }\n",
       "\n",
       "    .dataframe thead th {\n",
       "        text-align: right;\n",
       "    }\n",
       "</style>\n",
       "<table border=\"1\" class=\"dataframe\">\n",
       "  <thead>\n",
       "    <tr style=\"text-align: right;\">\n",
       "      <th></th>\n",
       "      <th>self_attn.q_proj</th>\n",
       "      <th>self_attn.k_proj</th>\n",
       "      <th>self_attn.v_proj</th>\n",
       "      <th>self_attn.o_proj</th>\n",
       "      <th>mlp.gate_proj</th>\n",
       "      <th>mlp.up_proj</th>\n",
       "    </tr>\n",
       "  </thead>\n",
       "  <tbody>\n",
       "    <tr>\n",
       "      <th>ab</th>\n",
       "      <td>[( Writers, 0.07), ( Zuk, 0.06), ( Filme, 0.06...</td>\n",
       "      <td>[(Alice, 0.13), (\\n\\n, 0.08), ( alice, 0.08), ...</td>\n",
       "      <td>[(ıldığı, 0.06), ( soph, 0.06), ( 칼, 0.05), (c...</td>\n",
       "      <td>[( unlike, 0.06), ( Παρ, 0.06), (uber, 0.06), ...</td>\n",
       "      <td>[(Alice, 0.48), ( Alice, 0.36), (Bob, 0.27), (...</td>\n",
       "      <td>[(Bob, 0.42), ( Bob, 0.31), (Alice, 0.2), (bob...</td>\n",
       "    </tr>\n",
       "    <tr>\n",
       "      <th>animal</th>\n",
       "      <td>[(False, 0.14), (True, 0.11), ( True, 0.11), (...</td>\n",
       "      <td>[(\\th, 0.07), (?, 0.06), ((v, 0.06), ( v, 0.06...</td>\n",
       "      <td>[(ıldığı, 0.08), (富, 0.04), (ـــ, 0.04), (.ids...</td>\n",
       "      <td>[( виник, 0.07), (/cs, 0.06), ( Leads, 0.06), ...</td>\n",
       "      <td>[(Arrow, 0.07), ( Mutex, 0.07), ( Projectile, ...</td>\n",
       "      <td>[( contador, 0.07), ( crem, 0.07), (CVE, 0.06)...</td>\n",
       "    </tr>\n",
       "    <tr>\n",
       "      <th>gender</th>\n",
       "      <td>[( сіль, 0.06), (��取, 0.06), ( tvb, 0.05), (ją...</td>\n",
       "      <td>[(()))\\n\\n, 0.07), ( unions, 0.07), ([port, 0....</td>\n",
       "      <td>[( says, 0.09), ( ===, 0.07), ( said, 0.07), (...</td>\n",
       "      <td>[(Attributes, 0.07), ( =&amp;, 0.06), (SERVICE, 0....</td>\n",
       "      <td>[(('/')\\n, 0.07), (.=, 0.07), ( intValue, 0.07...</td>\n",
       "      <td>[( says, 0.51), (says, 0.28), ( Says, 0.23), (...</td>\n",
       "    </tr>\n",
       "    <tr>\n",
       "      <th>odd_even</th>\n",
       "      <td>[(\\n\\n, 0.11), (())\\n\\n, 0.11), ('\\n\\n, 0.11),...</td>\n",
       "      <td>[( ===, 0.17), (===, 0.16), (====, 0.11), (!==...</td>\n",
       "      <td>[(ıldığı, 0.08), ( 욕, 0.04), (useRal, 0.04), (...</td>\n",
       "      <td>[( seen, 0.07), ( сч, 0.06), (προ, 0.06), ( nu...</td>\n",
       "      <td>[()paren, 0.07), ( müda, 0.06), (／／／／／／／／, 0.0...</td>\n",
       "      <td>[(Q, 0.19), (30, 0.15), (22, 0.15), (46, 0.15)...</td>\n",
       "    </tr>\n",
       "    <tr>\n",
       "      <th>time</th>\n",
       "      <td>[( PASS, 0.11), ( DISCLAIMS, 0.06), ( возв, 0....</td>\n",
       "      <td>[( Was, 0.08), ( 사진, 0.07), ( Is, 0.07), (aunc...</td>\n",
       "      <td>[(\\n\\n, 0.17), (\\n\\n\\n, 0.16), (\")\\n\\n\\n, 0.16...</td>\n",
       "      <td>[( Challenges, 0.06), ( axial, 0.06), ( subpoe...</td>\n",
       "      <td>[( Answer, 0.08), (\")!=, 0.08), ( weakSelf, 0....</td>\n",
       "      <td>[(:, 0.21), (11, 0.11), (:E, 0.1), (:A, 0.1), ...</td>\n",
       "    </tr>\n",
       "    <tr>\n",
       "      <th>greeting</th>\n",
       "      <td>[( fark, 0.06), (ılıp, 0.06), ( 예, 0.06), ((St...</td>\n",
       "      <td>[(?, 0.09), (؟, 0.08), (GUI, 0.07), (olynomial...</td>\n",
       "      <td>[( single, 0.19), ( show, 0.18), ( link, 0.18)...</td>\n",
       "      <td>[(();\\n\\n, 0.06), (.vehicle, 0.06), (append, 0...</td>\n",
       "      <td>[( odpowied, 0.07), (owan, 0.07), ((jButton, 0...</td>\n",
       "      <td>[(...\"\\n\\n, 0.08), ( LeBron, 0.07), ( chtě, 0....</td>\n",
       "    </tr>\n",
       "  </tbody>\n",
       "</table>\n",
       "</div>"
      ],
      "text/plain": [
       "                                           self_attn.q_proj  \\\n",
       "ab        [( Writers, 0.07), ( Zuk, 0.06), ( Filme, 0.06...   \n",
       "animal    [(False, 0.14), (True, 0.11), ( True, 0.11), (...   \n",
       "gender    [( сіль, 0.06), (��取, 0.06), ( tvb, 0.05), (ją...   \n",
       "odd_even  [(\\n\\n, 0.11), (())\\n\\n, 0.11), ('\\n\\n, 0.11),...   \n",
       "time      [( PASS, 0.11), ( DISCLAIMS, 0.06), ( возв, 0....   \n",
       "greeting  [( fark, 0.06), (ılıp, 0.06), ( 예, 0.06), ((St...   \n",
       "\n",
       "                                           self_attn.k_proj  \\\n",
       "ab        [(Alice, 0.13), (\\n\\n, 0.08), ( alice, 0.08), ...   \n",
       "animal    [(\\th, 0.07), (?, 0.06), ((v, 0.06), ( v, 0.06...   \n",
       "gender    [(()))\\n\\n, 0.07), ( unions, 0.07), ([port, 0....   \n",
       "odd_even  [( ===, 0.17), (===, 0.16), (====, 0.11), (!==...   \n",
       "time      [( Was, 0.08), ( 사진, 0.07), ( Is, 0.07), (aunc...   \n",
       "greeting  [(?, 0.09), (؟, 0.08), (GUI, 0.07), (olynomial...   \n",
       "\n",
       "                                           self_attn.v_proj  \\\n",
       "ab        [(ıldığı, 0.06), ( soph, 0.06), ( 칼, 0.05), (c...   \n",
       "animal    [(ıldığı, 0.08), (富, 0.04), (ـــ, 0.04), (.ids...   \n",
       "gender    [( says, 0.09), ( ===, 0.07), ( said, 0.07), (...   \n",
       "odd_even  [(ıldığı, 0.08), ( 욕, 0.04), (useRal, 0.04), (...   \n",
       "time      [(\\n\\n, 0.17), (\\n\\n\\n, 0.16), (\")\\n\\n\\n, 0.16...   \n",
       "greeting  [( single, 0.19), ( show, 0.18), ( link, 0.18)...   \n",
       "\n",
       "                                           self_attn.o_proj  \\\n",
       "ab        [( unlike, 0.06), ( Παρ, 0.06), (uber, 0.06), ...   \n",
       "animal    [( виник, 0.07), (/cs, 0.06), ( Leads, 0.06), ...   \n",
       "gender    [(Attributes, 0.07), ( =&, 0.06), (SERVICE, 0....   \n",
       "odd_even  [( seen, 0.07), ( сч, 0.06), (προ, 0.06), ( nu...   \n",
       "time      [( Challenges, 0.06), ( axial, 0.06), ( subpoe...   \n",
       "greeting  [(();\\n\\n, 0.06), (.vehicle, 0.06), (append, 0...   \n",
       "\n",
       "                                              mlp.gate_proj  \\\n",
       "ab        [(Alice, 0.48), ( Alice, 0.36), (Bob, 0.27), (...   \n",
       "animal    [(Arrow, 0.07), ( Mutex, 0.07), ( Projectile, ...   \n",
       "gender    [(('/')\\n, 0.07), (.=, 0.07), ( intValue, 0.07...   \n",
       "odd_even  [()paren, 0.07), ( müda, 0.06), (／／／／／／／／, 0.0...   \n",
       "time      [( Answer, 0.08), (\")!=, 0.08), ( weakSelf, 0....   \n",
       "greeting  [( odpowied, 0.07), (owan, 0.07), ((jButton, 0...   \n",
       "\n",
       "                                                mlp.up_proj  \n",
       "ab        [(Bob, 0.42), ( Bob, 0.31), (Alice, 0.2), (bob...  \n",
       "animal    [( contador, 0.07), ( crem, 0.07), (CVE, 0.06)...  \n",
       "gender    [( says, 0.51), (says, 0.28), ( Says, 0.23), (...  \n",
       "odd_even  [(Q, 0.19), (30, 0.15), (22, 0.15), (46, 0.15)...  \n",
       "time      [(:, 0.21), (11, 0.11), (:E, 0.1), (:A, 0.1), ...  \n",
       "greeting  [(...\"\\n\\n, 0.08), ( LeBron, 0.07), ( chtě, 0....  "
      ]
     },
     "execution_count": 6,
     "metadata": {},
     "output_type": "execute_result"
    }
   ],
   "source": [
    "results = pd.DataFrame(columns=components)\n",
    "for prefix in prefixes:\n",
    "    model_name = f\"{MODEL_PATH}/llama-3.1-8b-it\"\n",
    "    model, base, tokenizer = load_base_model_tokenizer(model_name, prefix)\n",
    "    row = []\n",
    "    for component in tqdm(components, desc=prefix):\n",
    "        sims, tks = svd(component, model, base, tokenizer, 0)\n",
    "        sims_tks = [(tk, round(score, 2)) for tk, score in zip(tks, sims)]\n",
    "        row.append(sims_tks)\n",
    "    results.loc[prefix] = row\n",
    "results"
   ]
  },
  {
   "cell_type": "code",
   "execution_count": 7,
   "metadata": {},
   "outputs": [
    {
     "name": "stdout",
     "output_type": "stream",
     "text": [
      "ab\n"
     ]
    },
    {
     "data": {
      "text/plain": [
       "[('Bob', 0.42), (' Bob', 0.31), ('Alice', 0.2), ('bob', 0.16), (' says', 0.14)]"
      ]
     },
     "metadata": {},
     "output_type": "display_data"
    },
    {
     "name": "stdout",
     "output_type": "stream",
     "text": [
      "====================================================================================================\n",
      "animal\n"
     ]
    },
    {
     "data": {
      "text/plain": [
       "[(' contador', 0.07),\n",
       " (' crem', 0.07),\n",
       " ('CVE', 0.06),\n",
       " ('uru', 0.06),\n",
       " ('.po', 0.06)]"
      ]
     },
     "metadata": {},
     "output_type": "display_data"
    },
    {
     "name": "stdout",
     "output_type": "stream",
     "text": [
      "====================================================================================================\n",
      "gender\n"
     ]
    },
    {
     "data": {
      "text/plain": [
       "[(' says', 0.51),\n",
       " ('says', 0.28),\n",
       " (' Says', 0.23),\n",
       " (' said', 0.22),\n",
       " (' say', 0.21)]"
      ]
     },
     "metadata": {},
     "output_type": "display_data"
    },
    {
     "name": "stdout",
     "output_type": "stream",
     "text": [
      "====================================================================================================\n",
      "odd_even\n"
     ]
    },
    {
     "data": {
      "text/plain": [
       "[('Q', 0.19), ('30', 0.15), ('22', 0.15), ('46', 0.15), ('44', 0.14)]"
      ]
     },
     "metadata": {},
     "output_type": "display_data"
    },
    {
     "name": "stdout",
     "output_type": "stream",
     "text": [
      "====================================================================================================\n",
      "time\n"
     ]
    },
    {
     "data": {
      "text/plain": [
       "[(':', 0.21), ('11', 0.11), (':E', 0.1), (':A', 0.1), ('14', 0.09)]"
      ]
     },
     "metadata": {},
     "output_type": "display_data"
    },
    {
     "name": "stdout",
     "output_type": "stream",
     "text": [
      "====================================================================================================\n",
      "greeting\n"
     ]
    },
    {
     "data": {
      "text/plain": [
       "[('...\"\\n\\n', 0.08),\n",
       " (' LeBron', 0.07),\n",
       " (' chtě', 0.07),\n",
       " ('_\\r\\n\\r\\n', 0.07),\n",
       " ('ãeste', 0.07)]"
      ]
     },
     "metadata": {},
     "output_type": "display_data"
    },
    {
     "name": "stdout",
     "output_type": "stream",
     "text": [
      "====================================================================================================\n"
     ]
    }
   ],
   "source": [
    "for prefix in prefixes:\n",
    "    print(prefix)\n",
    "    display(results.at[prefix, \"mlp.up_proj\"])\n",
    "    print(\"=\"*100)"
   ]
  }
 ],
 "metadata": {
  "kernelspec": {
   "display_name": "Python 3",
   "language": "python",
   "name": "python3"
  },
  "language_info": {
   "codemirror_mode": {
    "name": "ipython",
    "version": 3
   },
   "file_extension": ".py",
   "mimetype": "text/x-python",
   "name": "python",
   "nbconvert_exporter": "python",
   "pygments_lexer": "ipython3",
   "version": "3.10.12"
  }
 },
 "nbformat": 4,
 "nbformat_minor": 2
}
